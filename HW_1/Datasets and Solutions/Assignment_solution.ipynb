{
 "cells": [
  {
   "cell_type": "code",
   "execution_count": null,
   "metadata": {},
   "outputs": [],
   "source": [
    "#CISC 6930 Assignment Solution\n",
    "#Debarshi Dutta"
   ]
  },
  {
   "cell_type": "code",
   "execution_count": 2,
   "metadata": {},
   "outputs": [],
   "source": [
    "import csv\n",
    "import numpy as np\n",
    "import matplotlib.pyplot as plt\n",
    "\n",
    "%matplotlib inline"
   ]
  },
  {
   "cell_type": "code",
   "execution_count": 3,
   "metadata": {},
   "outputs": [],
   "source": [
    "#creating train-50(1000)-100.csv file with the first 50 instances\n",
    "with open('train-1000-100.csv') as csv_file, open (\"train-50(1000)-100.csv\", mode = \"w\") as first_50:\n",
    "    reader = csv.reader(csv_file)\n",
    "    writer = csv.writer(first_50, delimiter = \",\")\n",
    "    \n",
    "    for i, row in enumerate(reader):\n",
    "        writer.writerow(row)\n",
    "        if (i >= 50):\n",
    "            break\n",
    "        \n",
    "#creating train-100(1000)-100.csv file with the first 100 instances        \n",
    "with open('train-1000-100.csv') as csv_file, open (\"train-100(1000)-100.csv\", mode = \"w\") as first_100:\n",
    "    reader = csv.reader(csv_file)\n",
    "    writer = csv.writer(first_100, delimiter = \",\")\n",
    "    \n",
    "    for i, row in enumerate(reader):\n",
    "        writer.writerow(row)\n",
    "        if (i >= 100):\n",
    "            break\n",
    "\n",
    "#creating train-150(1000)-100.csv file with the first 150 instances\n",
    "with open('train-1000-100.csv') as csv_file, open (\"train-150(1000)-100.csv\", mode = \"w\") as first_150:\n",
    "    reader = csv.reader(csv_file)\n",
    "    writer = csv.writer(first_150, delimiter = \",\")\n",
    "    \n",
    "    for i, row in enumerate(reader):\n",
    "        writer.writerow(row)\n",
    "        if (i >= 150):\n",
    "            break"
   ]
  },
  {
   "cell_type": "code",
   "execution_count": 4,
   "metadata": {},
   "outputs": [],
   "source": [
    "#function defintion for Ridge Regression\n",
    "def RidgeRegression(X,y):\n",
    "    w_list = [] \n",
    "    penalty_list = []\n",
    "    for i in range (0,151,1): #since lambda ranges from 0-150\n",
    "        lmbda = i \n",
    "        xtranspose = np.transpose(X)\n",
    "        xtransposex = np.dot(xtranspose, X)    \n",
    "        lambdaidentity = np.identity(xtransposex.shape[0])*lmdba #the identity matrix has to be of the same dimension\n",
    "                                                                #row-wise as xtransposeX for addition to be possible\n",
    "        \n",
    "        term_one = np.linalg.inv(xtransposex + lamdaidentity)\n",
    "        xtransposey = np.dot(xtranspose, y)\n",
    "        w = np.dot(term_one,xtransposey) #computing w as the dot product of the two calculated terms\n",
    "        _, S, _ = np.linalg.svd(X) #only taking the diagonal matrix of the SVD and ignoring u and v\n",
    "        penalty = np.sum(np.square(S) / (np.square(S) + lmbda))\n",
    "        \n",
    "        w_list.append(w) #keep adding the newly computed values of w to the list\n",
    "        penalty_list.append(penalty) #keep adding the newly computed penalty values to the list\n",
    "\n",
    "    return w_list, penalty_list\n",
    "    "
   ]
  },
  {
   "cell_type": "code",
   "execution_count": null,
   "metadata": {},
   "outputs": [],
   "source": [
    "X_100_100_train = np.genfromtxt('train-100-100.csv', delimiter=',')"
   ]
  },
  {
   "cell_type": "code",
   "execution_count": null,
   "metadata": {},
   "outputs": [],
   "source": [
    "X_100_100_train"
   ]
  }
 ],
 "metadata": {
  "kernelspec": {
   "display_name": "Python 3",
   "language": "python",
   "name": "python3"
  },
  "language_info": {
   "codemirror_mode": {
    "name": "ipython",
    "version": 3
   },
   "file_extension": ".py",
   "mimetype": "text/x-python",
   "name": "python",
   "nbconvert_exporter": "python",
   "pygments_lexer": "ipython3",
   "version": "3.6.5"
  }
 },
 "nbformat": 4,
 "nbformat_minor": 2
}
